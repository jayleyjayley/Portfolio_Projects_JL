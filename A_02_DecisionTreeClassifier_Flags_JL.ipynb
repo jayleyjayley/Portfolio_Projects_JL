{
 "cells": [
  {
   "cell_type": "markdown",
   "id": "6288b0d3",
   "metadata": {},
   "source": [
    "# Machine Learning Project\n",
    "## Flags\n",
    "\n",
    "It is the goal of this project to attempt prediction to the continent of flags based on various features using decision trees.\n",
    "\n",
    "The original dataset is avaiable at the UCI Machine Learning Repository:\n",
    "https://archive.ics.uci.edu/ml/datasets/Flags"
   ]
  },
  {
   "cell_type": "markdown",
   "id": "e6b893f8",
   "metadata": {},
   "source": [
    "### Import Python Modules"
   ]
  },
  {
   "cell_type": "code",
   "execution_count": 1,
   "id": "c916c599",
   "metadata": {},
   "outputs": [],
   "source": [
    "import pandas as pd\n",
    "import numpy as np\n",
    "import seaborn as sns\n",
    "import matplotlib.pyplot as plt\n",
    "from sklearn.model_selection import train_test_split\n",
    "from sklearn.tree import DecisionTreeClassifier\n",
    "from sklearn import tree"
   ]
  },
  {
   "cell_type": "code",
   "execution_count": 2,
   "id": "0c3d318d",
   "metadata": {},
   "outputs": [
    {
     "name": "stdout",
     "output_type": "stream",
     "text": [
      "1. TItle: Flag database\n",
      "\n",
      "2. Source Information\n",
      "   -- Creators: Collected primarily from the \"Collins Gem Guide to Flags\":\n",
      "      Collins Publishers (1986).\n",
      "   -- Donor: Richard S. Forsyth \n",
      "             8 Grosvenor Avenue\n",
      "             Mapperley Park\n",
      "             Nottingham NG3 5DX\n",
      "             0602-621676\n",
      "   -- Date: 5/15/1990\n",
      "\n",
      "3. Past Usage:\n",
      "   -- None known other than what is shown in Forsyth's PC/BEAGLE User's Guide.\n",
      "\n",
      "4. Relevant Information:\n",
      "   -- This data file contains details of various nations and their flags.\n",
      "      In this file the fields are separated by spaces (not commas).  With\n",
      "      this data you can try things like predicting the religion of a country\n",
      "      from its size and the colours in its flag.  \n",
      "   -- 10 attributes are numeric-valued.  The remainder are either Boolean-\n",
      "      or nominal-valued.\n",
      "\n",
      "5. Number of Instances: 194\n",
      "\n",
      "6. Number of attributes: 30 (overall)\n",
      "\n",
      "7. Attribute Information:\n",
      "   1. name\tName of the country concerned\n",
      "   2. landmass\t1=N.America, 2=S.America, 3=Europe, 4=Africa, 5=Asia, 6=Oceania\n",
      "   3. zone\tGeographic quadrant, based on Greenwich and the Equator\n",
      "                1=NE, 2=SE, 3=SW, 4=NW\n",
      "   4. area\tin thousands of square km\n",
      "   5. population\tin round millions\n",
      "   6. language 1=English, 2=Spanish, 3=French, 4=German, 5=Slavic, 6=Other \n",
      "               Indo-European, 7=Chinese, 8=Arabic, \n",
      "               9=Japanese/Turkish/Finnish/Magyar, 10=Others\n",
      "   7. religion 0=Catholic, 1=Other Christian, 2=Muslim, 3=Buddhist, 4=Hindu,\n",
      "               5=Ethnic, 6=Marxist, 7=Others\n",
      "   8. bars     Number of vertical bars in the flag\n",
      "   9. stripes  Number of horizontal stripes in the flag\n",
      "  10. colours  Number of different colours in the flag\n",
      "  11. red      0 if red absent, 1 if red present in the flag\n",
      "  12. green    same for green\n",
      "  13. blue     same for blue\n",
      "  14. gold     same for gold (also yellow)\n",
      "  15. white    same for white\n",
      "  16. black    same for black\n",
      "  17. orange   same for orange (also brown)\n",
      "  18. mainhue  predominant colour in the flag (tie-breaks decided by taking\n",
      "               the topmost hue, if that fails then the most central hue,\n",
      "               and if that fails the leftmost hue)\n",
      "  19. circles  Number of circles in the flag\n",
      "  20. crosses  Number of (upright) crosses\n",
      "  21. saltires Number of diagonal crosses\n",
      "  22. quarters Number of quartered sections\n",
      "  23. sunstars Number of sun or star symbols\n",
      "  24. crescent 1 if a crescent moon symbol present, else 0\n",
      "  25. triangle 1 if any triangles present, 0 otherwise\n",
      "  26. icon     1 if an inanimate image present (e.g., a boat), otherwise 0\n",
      "  27. animate  1 if an animate image (e.g., an eagle, a tree, a human hand)\n",
      "               present, 0 otherwise\n",
      "  28. text     1 if any letters or writing on the flag (e.g., a motto or\n",
      "               slogan), 0 otherwise\n",
      "  29. topleft  colour in the top-left corner (moving right to decide \n",
      "               tie-breaks)\n",
      "  30. botright Colour in the bottom-left corner (moving left to decide \n",
      "               tie-breaks)\n",
      "\n",
      "8. Missing values: None\n",
      "\n"
     ]
    }
   ],
   "source": [
    "with open('flag.names') as names:\n",
    "    print(names.read())"
   ]
  },
  {
   "cell_type": "code",
   "execution_count": 3,
   "id": "a8353808",
   "metadata": {},
   "outputs": [
    {
     "data": {
      "text/html": [
       "<div>\n",
       "<style scoped>\n",
       "    .dataframe tbody tr th:only-of-type {\n",
       "        vertical-align: middle;\n",
       "    }\n",
       "\n",
       "    .dataframe tbody tr th {\n",
       "        vertical-align: top;\n",
       "    }\n",
       "\n",
       "    .dataframe thead th {\n",
       "        text-align: right;\n",
       "    }\n",
       "</style>\n",
       "<table border=\"1\" class=\"dataframe\">\n",
       "  <thead>\n",
       "    <tr style=\"text-align: right;\">\n",
       "      <th></th>\n",
       "      <th>name</th>\n",
       "      <th>landmass</th>\n",
       "      <th>zone</th>\n",
       "      <th>area</th>\n",
       "      <th>population</th>\n",
       "      <th>language</th>\n",
       "      <th>religon</th>\n",
       "      <th>bars</th>\n",
       "      <th>stripes</th>\n",
       "      <th>colours</th>\n",
       "      <th>...</th>\n",
       "      <th>saltires</th>\n",
       "      <th>quarters</th>\n",
       "      <th>sunstars</th>\n",
       "      <th>crescent</th>\n",
       "      <th>triangle</th>\n",
       "      <th>icon</th>\n",
       "      <th>animate</th>\n",
       "      <th>text</th>\n",
       "      <th>topleft</th>\n",
       "      <th>botright</th>\n",
       "    </tr>\n",
       "  </thead>\n",
       "  <tbody>\n",
       "    <tr>\n",
       "      <th>0</th>\n",
       "      <td>Afghanistan</td>\n",
       "      <td>5</td>\n",
       "      <td>1</td>\n",
       "      <td>648</td>\n",
       "      <td>16</td>\n",
       "      <td>10</td>\n",
       "      <td>2</td>\n",
       "      <td>0</td>\n",
       "      <td>3</td>\n",
       "      <td>5</td>\n",
       "      <td>...</td>\n",
       "      <td>0</td>\n",
       "      <td>0</td>\n",
       "      <td>1</td>\n",
       "      <td>0</td>\n",
       "      <td>0</td>\n",
       "      <td>1</td>\n",
       "      <td>0</td>\n",
       "      <td>0</td>\n",
       "      <td>black</td>\n",
       "      <td>green</td>\n",
       "    </tr>\n",
       "    <tr>\n",
       "      <th>1</th>\n",
       "      <td>Albania</td>\n",
       "      <td>3</td>\n",
       "      <td>1</td>\n",
       "      <td>29</td>\n",
       "      <td>3</td>\n",
       "      <td>6</td>\n",
       "      <td>6</td>\n",
       "      <td>0</td>\n",
       "      <td>0</td>\n",
       "      <td>3</td>\n",
       "      <td>...</td>\n",
       "      <td>0</td>\n",
       "      <td>0</td>\n",
       "      <td>1</td>\n",
       "      <td>0</td>\n",
       "      <td>0</td>\n",
       "      <td>0</td>\n",
       "      <td>1</td>\n",
       "      <td>0</td>\n",
       "      <td>red</td>\n",
       "      <td>red</td>\n",
       "    </tr>\n",
       "    <tr>\n",
       "      <th>2</th>\n",
       "      <td>Algeria</td>\n",
       "      <td>4</td>\n",
       "      <td>1</td>\n",
       "      <td>2388</td>\n",
       "      <td>20</td>\n",
       "      <td>8</td>\n",
       "      <td>2</td>\n",
       "      <td>2</td>\n",
       "      <td>0</td>\n",
       "      <td>3</td>\n",
       "      <td>...</td>\n",
       "      <td>0</td>\n",
       "      <td>0</td>\n",
       "      <td>1</td>\n",
       "      <td>1</td>\n",
       "      <td>0</td>\n",
       "      <td>0</td>\n",
       "      <td>0</td>\n",
       "      <td>0</td>\n",
       "      <td>green</td>\n",
       "      <td>white</td>\n",
       "    </tr>\n",
       "    <tr>\n",
       "      <th>3</th>\n",
       "      <td>American-Samoa</td>\n",
       "      <td>6</td>\n",
       "      <td>3</td>\n",
       "      <td>0</td>\n",
       "      <td>0</td>\n",
       "      <td>1</td>\n",
       "      <td>1</td>\n",
       "      <td>0</td>\n",
       "      <td>0</td>\n",
       "      <td>5</td>\n",
       "      <td>...</td>\n",
       "      <td>0</td>\n",
       "      <td>0</td>\n",
       "      <td>0</td>\n",
       "      <td>0</td>\n",
       "      <td>1</td>\n",
       "      <td>1</td>\n",
       "      <td>1</td>\n",
       "      <td>0</td>\n",
       "      <td>blue</td>\n",
       "      <td>red</td>\n",
       "    </tr>\n",
       "    <tr>\n",
       "      <th>4</th>\n",
       "      <td>Andorra</td>\n",
       "      <td>3</td>\n",
       "      <td>1</td>\n",
       "      <td>0</td>\n",
       "      <td>0</td>\n",
       "      <td>6</td>\n",
       "      <td>0</td>\n",
       "      <td>3</td>\n",
       "      <td>0</td>\n",
       "      <td>3</td>\n",
       "      <td>...</td>\n",
       "      <td>0</td>\n",
       "      <td>0</td>\n",
       "      <td>0</td>\n",
       "      <td>0</td>\n",
       "      <td>0</td>\n",
       "      <td>0</td>\n",
       "      <td>0</td>\n",
       "      <td>0</td>\n",
       "      <td>blue</td>\n",
       "      <td>red</td>\n",
       "    </tr>\n",
       "  </tbody>\n",
       "</table>\n",
       "<p>5 rows × 30 columns</p>\n",
       "</div>"
      ],
      "text/plain": [
       "             name  landmass  zone  area  population  language  religon  bars  \\\n",
       "0     Afghanistan         5     1   648          16        10        2     0   \n",
       "1         Albania         3     1    29           3         6        6     0   \n",
       "2         Algeria         4     1  2388          20         8        2     2   \n",
       "3  American-Samoa         6     3     0           0         1        1     0   \n",
       "4         Andorra         3     1     0           0         6        0     3   \n",
       "\n",
       "   stripes  colours  ...  saltires  quarters  sunstars  crescent  triangle  \\\n",
       "0        3        5  ...         0         0         1         0         0   \n",
       "1        0        3  ...         0         0         1         0         0   \n",
       "2        0        3  ...         0         0         1         1         0   \n",
       "3        0        5  ...         0         0         0         0         1   \n",
       "4        0        3  ...         0         0         0         0         0   \n",
       "\n",
       "   icon  animate text   topleft  botright  \n",
       "0     1        0    0     black     green  \n",
       "1     0        1    0       red       red  \n",
       "2     0        0    0     green     white  \n",
       "3     1        1    0      blue       red  \n",
       "4     0        0    0      blue       red  \n",
       "\n",
       "[5 rows x 30 columns]"
      ]
     },
     "execution_count": 3,
     "metadata": {},
     "output_type": "execute_result"
    }
   ],
   "source": [
    "cols = ['name', 'landmass', 'zone', 'area', 'population', 'language', \\\n",
    "       'religon', 'bars', 'stripes', 'colours', 'red', 'green', 'blue',\\\n",
    "       'gold', 'white', 'black', 'orange', 'mainhue', 'circles', \\\n",
    "       'crosses', 'saltires', 'quarters', 'sunstars', 'crescent',\\\n",
    "       'triangle', 'icon', 'animate', 'text',' topleft', 'botright']\n",
    "\n",
    "df = pd.read_csv('flag.data', names=cols)\n",
    "df.head()"
   ]
  },
  {
   "cell_type": "markdown",
   "id": "55afa306",
   "metadata": {},
   "source": [
    "Select variables to use as predictors"
   ]
  },
  {
   "cell_type": "code",
   "execution_count": 4,
   "id": "177852ea",
   "metadata": {},
   "outputs": [],
   "source": [
    "var = ['red', 'green', 'blue', 'gold', 'white', 'black', 'orange', \\\n",
    "       'mainhue', 'bars', 'stripes', 'circles', 'crosses', 'saltires',\\\n",
    "       'quarters', 'sunstars', 'triangle', 'animate']"
   ]
  },
  {
   "cell_type": "markdown",
   "id": "1ba4b3b3",
   "metadata": {},
   "source": [
    "To build a decision tree classifier to predict where does a particular flag come from, it is necessary to understand the distribution of flags by contient. Calculate the count of flags by contients. "
   ]
  },
  {
   "cell_type": "code",
   "execution_count": 5,
   "id": "275e5af3",
   "metadata": {},
   "outputs": [
    {
     "data": {
      "text/plain": [
       "Africa       52\n",
       "Asia         39\n",
       "Europe       35\n",
       "N.America    31\n",
       "Oceania      20\n",
       "S.America    17\n",
       "Name: landmass, dtype: int64"
      ]
     },
     "execution_count": 5,
     "metadata": {},
     "output_type": "execute_result"
    }
   ],
   "source": [
    "df['landmass'].map({1:'N.America', 2:'S.America', 3:'Europe', 4:'Africa', 5:'Asia', 6:'Oceania'}).value_counts()"
   ]
  },
  {
   "cell_type": "markdown",
   "id": "b56d98ea",
   "metadata": {},
   "source": [
    "Let's focus on two continents for now, Europe and Oceania. Create a new dataframe with only flags from Europe and Oceania."
   ]
  },
  {
   "cell_type": "code",
   "execution_count": 6,
   "id": "945d0675",
   "metadata": {},
   "outputs": [
    {
     "data": {
      "text/html": [
       "<div>\n",
       "<style scoped>\n",
       "    .dataframe tbody tr th:only-of-type {\n",
       "        vertical-align: middle;\n",
       "    }\n",
       "\n",
       "    .dataframe tbody tr th {\n",
       "        vertical-align: top;\n",
       "    }\n",
       "\n",
       "    .dataframe thead th {\n",
       "        text-align: right;\n",
       "    }\n",
       "</style>\n",
       "<table border=\"1\" class=\"dataframe\">\n",
       "  <thead>\n",
       "    <tr style=\"text-align: right;\">\n",
       "      <th></th>\n",
       "      <th>name</th>\n",
       "      <th>landmass</th>\n",
       "      <th>zone</th>\n",
       "      <th>area</th>\n",
       "      <th>population</th>\n",
       "      <th>language</th>\n",
       "      <th>religon</th>\n",
       "      <th>bars</th>\n",
       "      <th>stripes</th>\n",
       "      <th>colours</th>\n",
       "      <th>...</th>\n",
       "      <th>saltires</th>\n",
       "      <th>quarters</th>\n",
       "      <th>sunstars</th>\n",
       "      <th>crescent</th>\n",
       "      <th>triangle</th>\n",
       "      <th>icon</th>\n",
       "      <th>animate</th>\n",
       "      <th>text</th>\n",
       "      <th>topleft</th>\n",
       "      <th>botright</th>\n",
       "    </tr>\n",
       "  </thead>\n",
       "  <tbody>\n",
       "    <tr>\n",
       "      <th>1</th>\n",
       "      <td>Albania</td>\n",
       "      <td>3</td>\n",
       "      <td>1</td>\n",
       "      <td>29</td>\n",
       "      <td>3</td>\n",
       "      <td>6</td>\n",
       "      <td>6</td>\n",
       "      <td>0</td>\n",
       "      <td>0</td>\n",
       "      <td>3</td>\n",
       "      <td>...</td>\n",
       "      <td>0</td>\n",
       "      <td>0</td>\n",
       "      <td>1</td>\n",
       "      <td>0</td>\n",
       "      <td>0</td>\n",
       "      <td>0</td>\n",
       "      <td>1</td>\n",
       "      <td>0</td>\n",
       "      <td>red</td>\n",
       "      <td>red</td>\n",
       "    </tr>\n",
       "    <tr>\n",
       "      <th>3</th>\n",
       "      <td>American-Samoa</td>\n",
       "      <td>6</td>\n",
       "      <td>3</td>\n",
       "      <td>0</td>\n",
       "      <td>0</td>\n",
       "      <td>1</td>\n",
       "      <td>1</td>\n",
       "      <td>0</td>\n",
       "      <td>0</td>\n",
       "      <td>5</td>\n",
       "      <td>...</td>\n",
       "      <td>0</td>\n",
       "      <td>0</td>\n",
       "      <td>0</td>\n",
       "      <td>0</td>\n",
       "      <td>1</td>\n",
       "      <td>1</td>\n",
       "      <td>1</td>\n",
       "      <td>0</td>\n",
       "      <td>blue</td>\n",
       "      <td>red</td>\n",
       "    </tr>\n",
       "    <tr>\n",
       "      <th>4</th>\n",
       "      <td>Andorra</td>\n",
       "      <td>3</td>\n",
       "      <td>1</td>\n",
       "      <td>0</td>\n",
       "      <td>0</td>\n",
       "      <td>6</td>\n",
       "      <td>0</td>\n",
       "      <td>3</td>\n",
       "      <td>0</td>\n",
       "      <td>3</td>\n",
       "      <td>...</td>\n",
       "      <td>0</td>\n",
       "      <td>0</td>\n",
       "      <td>0</td>\n",
       "      <td>0</td>\n",
       "      <td>0</td>\n",
       "      <td>0</td>\n",
       "      <td>0</td>\n",
       "      <td>0</td>\n",
       "      <td>blue</td>\n",
       "      <td>red</td>\n",
       "    </tr>\n",
       "    <tr>\n",
       "      <th>10</th>\n",
       "      <td>Australia</td>\n",
       "      <td>6</td>\n",
       "      <td>2</td>\n",
       "      <td>7690</td>\n",
       "      <td>15</td>\n",
       "      <td>1</td>\n",
       "      <td>1</td>\n",
       "      <td>0</td>\n",
       "      <td>0</td>\n",
       "      <td>3</td>\n",
       "      <td>...</td>\n",
       "      <td>1</td>\n",
       "      <td>1</td>\n",
       "      <td>6</td>\n",
       "      <td>0</td>\n",
       "      <td>0</td>\n",
       "      <td>0</td>\n",
       "      <td>0</td>\n",
       "      <td>0</td>\n",
       "      <td>white</td>\n",
       "      <td>blue</td>\n",
       "    </tr>\n",
       "    <tr>\n",
       "      <th>11</th>\n",
       "      <td>Austria</td>\n",
       "      <td>3</td>\n",
       "      <td>1</td>\n",
       "      <td>84</td>\n",
       "      <td>8</td>\n",
       "      <td>4</td>\n",
       "      <td>0</td>\n",
       "      <td>0</td>\n",
       "      <td>3</td>\n",
       "      <td>2</td>\n",
       "      <td>...</td>\n",
       "      <td>0</td>\n",
       "      <td>0</td>\n",
       "      <td>0</td>\n",
       "      <td>0</td>\n",
       "      <td>0</td>\n",
       "      <td>0</td>\n",
       "      <td>0</td>\n",
       "      <td>0</td>\n",
       "      <td>red</td>\n",
       "      <td>red</td>\n",
       "    </tr>\n",
       "  </tbody>\n",
       "</table>\n",
       "<p>5 rows × 30 columns</p>\n",
       "</div>"
      ],
      "text/plain": [
       "              name  landmass  zone  area  population  language  religon  bars  \\\n",
       "1          Albania         3     1    29           3         6        6     0   \n",
       "3   American-Samoa         6     3     0           0         1        1     0   \n",
       "4          Andorra         3     1     0           0         6        0     3   \n",
       "10       Australia         6     2  7690          15         1        1     0   \n",
       "11         Austria         3     1    84           8         4        0     0   \n",
       "\n",
       "    stripes  colours  ...  saltires  quarters  sunstars  crescent  triangle  \\\n",
       "1         0        3  ...         0         0         1         0         0   \n",
       "3         0        5  ...         0         0         0         0         1   \n",
       "4         0        3  ...         0         0         0         0         0   \n",
       "10        0        3  ...         1         1         6         0         0   \n",
       "11        3        2  ...         0         0         0         0         0   \n",
       "\n",
       "    icon  animate text   topleft  botright  \n",
       "1      0        1    0       red       red  \n",
       "3      1        1    0      blue       red  \n",
       "4      0        0    0      blue       red  \n",
       "10     0        0    0     white      blue  \n",
       "11     0        0    0       red       red  \n",
       "\n",
       "[5 rows x 30 columns]"
      ]
     },
     "execution_count": 6,
     "metadata": {},
     "output_type": "execute_result"
    }
   ],
   "source": [
    "df_36 = df[df['landmass'].apply(lambda x: (x==3) or (x==6))]\n",
    "df_36.head()"
   ]
  },
  {
   "cell_type": "code",
   "execution_count": 7,
   "id": "f8c12950",
   "metadata": {},
   "outputs": [],
   "source": [
    "# Alternative way to extract rows with landmass value of 3 or 6\n",
    "df_eo = df[df['landmass'].isin([3,6])]"
   ]
  },
  {
   "cell_type": "markdown",
   "id": "f657cfe9",
   "metadata": {},
   "source": [
    "Use the selected predictor variables to find the average values of each for Europe and Oceania."
   ]
  },
  {
   "cell_type": "code",
   "execution_count": 8,
   "id": "7513699c",
   "metadata": {},
   "outputs": [
    {
     "data": {
      "text/html": [
       "<div>\n",
       "<style scoped>\n",
       "    .dataframe tbody tr th:only-of-type {\n",
       "        vertical-align: middle;\n",
       "    }\n",
       "\n",
       "    .dataframe tbody tr th {\n",
       "        vertical-align: top;\n",
       "    }\n",
       "\n",
       "    .dataframe thead th {\n",
       "        text-align: right;\n",
       "    }\n",
       "</style>\n",
       "<table border=\"1\" class=\"dataframe\">\n",
       "  <thead>\n",
       "    <tr style=\"text-align: right;\">\n",
       "      <th>landmass</th>\n",
       "      <th>3</th>\n",
       "      <th>6</th>\n",
       "    </tr>\n",
       "  </thead>\n",
       "  <tbody>\n",
       "    <tr>\n",
       "      <th>red</th>\n",
       "      <td>0.828571</td>\n",
       "      <td>0.80</td>\n",
       "    </tr>\n",
       "    <tr>\n",
       "      <th>green</th>\n",
       "      <td>0.200000</td>\n",
       "      <td>0.20</td>\n",
       "    </tr>\n",
       "    <tr>\n",
       "      <th>blue</th>\n",
       "      <td>0.514286</td>\n",
       "      <td>0.80</td>\n",
       "    </tr>\n",
       "    <tr>\n",
       "      <th>gold</th>\n",
       "      <td>0.428571</td>\n",
       "      <td>0.60</td>\n",
       "    </tr>\n",
       "    <tr>\n",
       "      <th>white</th>\n",
       "      <td>0.771429</td>\n",
       "      <td>0.95</td>\n",
       "    </tr>\n",
       "    <tr>\n",
       "      <th>black</th>\n",
       "      <td>0.171429</td>\n",
       "      <td>0.15</td>\n",
       "    </tr>\n",
       "    <tr>\n",
       "      <th>orange</th>\n",
       "      <td>0.057143</td>\n",
       "      <td>0.15</td>\n",
       "    </tr>\n",
       "    <tr>\n",
       "      <th>bars</th>\n",
       "      <td>0.628571</td>\n",
       "      <td>0.00</td>\n",
       "    </tr>\n",
       "    <tr>\n",
       "      <th>stripes</th>\n",
       "      <td>1.285714</td>\n",
       "      <td>0.40</td>\n",
       "    </tr>\n",
       "    <tr>\n",
       "      <th>circles</th>\n",
       "      <td>0.028571</td>\n",
       "      <td>0.15</td>\n",
       "    </tr>\n",
       "    <tr>\n",
       "      <th>crosses</th>\n",
       "      <td>0.285714</td>\n",
       "      <td>0.40</td>\n",
       "    </tr>\n",
       "    <tr>\n",
       "      <th>saltires</th>\n",
       "      <td>0.028571</td>\n",
       "      <td>0.30</td>\n",
       "    </tr>\n",
       "    <tr>\n",
       "      <th>quarters</th>\n",
       "      <td>0.028571</td>\n",
       "      <td>0.40</td>\n",
       "    </tr>\n",
       "    <tr>\n",
       "      <th>sunstars</th>\n",
       "      <td>0.142857</td>\n",
       "      <td>3.30</td>\n",
       "    </tr>\n",
       "    <tr>\n",
       "      <th>triangle</th>\n",
       "      <td>0.028571</td>\n",
       "      <td>0.25</td>\n",
       "    </tr>\n",
       "    <tr>\n",
       "      <th>animate</th>\n",
       "      <td>0.114286</td>\n",
       "      <td>0.30</td>\n",
       "    </tr>\n",
       "  </tbody>\n",
       "</table>\n",
       "</div>"
      ],
      "text/plain": [
       "landmass         3     6\n",
       "red       0.828571  0.80\n",
       "green     0.200000  0.20\n",
       "blue      0.514286  0.80\n",
       "gold      0.428571  0.60\n",
       "white     0.771429  0.95\n",
       "black     0.171429  0.15\n",
       "orange    0.057143  0.15\n",
       "bars      0.628571  0.00\n",
       "stripes   1.285714  0.40\n",
       "circles   0.028571  0.15\n",
       "crosses   0.285714  0.40\n",
       "saltires  0.028571  0.30\n",
       "quarters  0.028571  0.40\n",
       "sunstars  0.142857  3.30\n",
       "triangle  0.028571  0.25\n",
       "animate   0.114286  0.30"
      ]
     },
     "execution_count": 8,
     "metadata": {},
     "output_type": "execute_result"
    }
   ],
   "source": [
    "df_36.groupby('landmass')[var].mean().T"
   ]
  },
  {
   "cell_type": "markdown",
   "id": "8f47f645",
   "metadata": {},
   "source": [
    "Inspect the variable types of the predictors and create labels for the two continents, Europe and Oceania."
   ]
  },
  {
   "cell_type": "code",
   "execution_count": 9,
   "id": "cccf5e79",
   "metadata": {},
   "outputs": [
    {
     "data": {
      "text/plain": [
       "red          int64\n",
       "green        int64\n",
       "blue         int64\n",
       "gold         int64\n",
       "white        int64\n",
       "black        int64\n",
       "orange       int64\n",
       "mainhue     object\n",
       "bars         int64\n",
       "stripes      int64\n",
       "circles      int64\n",
       "crosses      int64\n",
       "saltires     int64\n",
       "quarters     int64\n",
       "sunstars     int64\n",
       "triangle     int64\n",
       "animate      int64\n",
       "dtype: object"
      ]
     },
     "execution_count": 9,
     "metadata": {},
     "output_type": "execute_result"
    }
   ],
   "source": [
    "df_36[var].dtypes"
   ]
  },
  {
   "cell_type": "code",
   "execution_count": 10,
   "id": "fef28e99",
   "metadata": {},
   "outputs": [],
   "source": [
    "labels = df_36['landmass']"
   ]
  },
  {
   "cell_type": "markdown",
   "id": "8fcc0b56",
   "metadata": {},
   "source": [
    "The predictor `mainhue` is not numeric. Transform `mainhue` to numeric before building the Decision Tree Classifier."
   ]
  },
  {
   "cell_type": "code",
   "execution_count": 11,
   "id": "ebd8444f",
   "metadata": {},
   "outputs": [],
   "source": [
    "data = pd.get_dummies(df_36[var])"
   ]
  },
  {
   "cell_type": "markdown",
   "id": "76823638",
   "metadata": {},
   "source": [
    "Split the data into a train and test set."
   ]
  },
  {
   "cell_type": "code",
   "execution_count": 12,
   "id": "9516b0aa",
   "metadata": {},
   "outputs": [],
   "source": [
    "x_train, x_test, y_train, y_test = train_test_split(data, labels, \\\n",
    "                                        random_state=1, test_size=0.4)"
   ]
  },
  {
   "cell_type": "markdown",
   "id": "e570b3a5",
   "metadata": {},
   "source": [
    "### Tune Decision Tree Classifiers by Depth\n",
    "\n",
    "Explore how well does a decision tree model perform by tuning the model over a range of `max_depth` values and find the corresponding accuracy score."
   ]
  },
  {
   "cell_type": "code",
   "execution_count": 13,
   "id": "622bb928",
   "metadata": {},
   "outputs": [],
   "source": [
    "depths = range(1,21)\n",
    "acc_depth = []\n",
    "for i in depths:\n",
    "    dtree = DecisionTreeClassifier(random_state=10, max_depth = i)\n",
    "    dtree.fit(x_train, y_train)\n",
    "    acc_depth.append(dtree.score(x_test, y_test))"
   ]
  },
  {
   "cell_type": "markdown",
   "id": "9b1ab138",
   "metadata": {},
   "source": [
    "Plot the accuracy score of the model vs. `max_depth`."
   ]
  },
  {
   "cell_type": "code",
   "execution_count": 14,
   "id": "97c71ecb",
   "metadata": {},
   "outputs": [
    {
     "data": {
      "image/png": "[encoded data removed]",
      "text/plain": [
       "<Figure size 576x432 with 1 Axes>"
      ]
     },
     "metadata": {
      "needs_background": "light"
     },
     "output_type": "display_data"
    }
   ],
   "source": [
    "plt.figure(figsize=(8,6))\n",
    "plt.plot(depths, acc_depth)\n",
    "plt.xlabel('Depth')\n",
    "plt.ylabel('Accuracy Score')\n",
    "plt.title('Decision Tree Model with Various Depth')\n",
    "plt.show()"
   ]
  },
  {
   "cell_type": "markdown",
   "id": "34f06c1a",
   "metadata": {},
   "source": [
    "Find the largest accuracy and the correponding depth. "
   ]
  },
  {
   "cell_type": "code",
   "execution_count": 15,
   "id": "b0f1063b",
   "metadata": {},
   "outputs": [
    {
     "name": "stdout",
     "output_type": "stream",
     "text": [
      "The largest accuracy score is 72.73% which occurs at depth = 5.\n"
     ]
    }
   ],
   "source": [
    "max_acc = np.max(acc_depth)\n",
    "best_depth = depths[np.argmax(acc_depth)]\n",
    "print('The largest accuracy score is {max_acc}% which occurs at \\\n",
    "depth = {max_depth}.'.format(max_acc=round(max_acc*100,2), max_depth=best_depth))"
   ]
  },
  {
   "cell_type": "markdown",
   "id": "063e67d7",
   "metadata": {},
   "source": [
    "Fit the Decision Tree Model using the depth of the largest accuracy."
   ]
  },
  {
   "cell_type": "code",
   "execution_count": 16,
   "id": "c878be8c",
   "metadata": {
    "scrolled": false
   },
   "outputs": [
    {
     "data": {
      "image/png": "[encoded data removed]",
      "text/plain": [
       "<Figure size 720x864 with 1 Axes>"
      ]
     },
     "metadata": {
      "needs_background": "light"
     },
     "output_type": "display_data"
    }
   ],
   "source": [
    "dtree = DecisionTreeClassifier(random_state=10, max_depth=best_depth)\n",
    "dtree.fit(x_train, y_train)\n",
    "plt.figure(figsize=(10,12))\n",
    "tree.plot_tree(dtree, feature_names=x_train.columns, \\\n",
    "               class_names=['Europe', 'Oceania'], filled=True)\n",
    "plt.show()"
   ]
  },
  {
   "cell_type": "markdown",
   "id": "edf0f5d5",
   "metadata": {},
   "source": [
    "### Tune Decision Tree Classifiers by Pruning\n",
    "\n",
    "Use the hyperparameter `ccp_alpha` to tune the Decision Tree Model.\n",
    "Fit the deision tree classifier for each log value from -3 to 0 with 20 numbers."
   ]
  },
  {
   "cell_type": "code",
   "execution_count": 17,
   "id": "ef9476c2",
   "metadata": {},
   "outputs": [],
   "source": [
    "ccp = np.logspace(-3,0,num=20)\n",
    "acc_pruned = []\n",
    "for i in ccp:\n",
    "  dtree = DecisionTreeClassifier(random_state=10, max_depth=best_depth, ccp_alpha=i)\n",
    "  dtree.fit(x_train, y_train)\n",
    "  acc_pruned.append(dtree.score(x_test, y_test))"
   ]
  },
  {
   "cell_type": "markdown",
   "id": "e334682b",
   "metadata": {},
   "source": [
    "Plot the accuracy of the decision tree models vs. `ccp_alpha`."
   ]
  },
  {
   "cell_type": "code",
   "execution_count": 18,
   "id": "38bba0d8",
   "metadata": {},
   "outputs": [
    {
     "data": {
      "image/png": "[encoded data removed]",
      "text/plain": [
       "<Figure size 576x432 with 1 Axes>"
      ]
     },
     "metadata": {
      "needs_background": "light"
     },
     "output_type": "display_data"
    }
   ],
   "source": [
    "plt.figure(figsize=(8,6))\n",
    "plt.plot(ccp, acc_pruned)\n",
    "plt.xscale('log')\n",
    "plt.xlabel('ccp_alpha')\n",
    "plt.ylabel('Accuracy Score')\n",
    "plt.title('Decision Tree Model with Various CCP')\n",
    "plt.show()"
   ]
  },
  {
   "cell_type": "markdown",
   "id": "edc83028",
   "metadata": {},
   "source": [
    "Find the largest accuracy and the corresponding `ccp_alpha` value."
   ]
  },
  {
   "cell_type": "code",
   "execution_count": 19,
   "id": "a4f93ea4",
   "metadata": {},
   "outputs": [
    {
     "name": "stdout",
     "output_type": "stream",
     "text": [
      "The highest accuracy score is 77.27% with best ccp value of 0.0379.\n"
     ]
    }
   ],
   "source": [
    "max_ccp_acc = np.max(acc_pruned)\n",
    "best_ccp = ccp[np.argmax(acc_pruned)]\n",
    "print('The highest accuracy score is {max_ccp_acc}% \\\n",
    "with best ccp value of {best_ccp}.'\\\n",
    "      .format(max_ccp_acc=round(max_ccp_acc*100, 2), \\\n",
    "              best_ccp=round(best_ccp, 4)))"
   ]
  },
  {
   "cell_type": "markdown",
   "id": "c300c2dc",
   "metadata": {},
   "source": [
    "Fit the decision tree classifier with the found best `max_depth` and `ccp_alpha` value and plot the final decision tree.\n",
    "Notice that the final model increased its accuracy and the decison tree was simpler which would be much easier to interpret. "
   ]
  },
  {
   "cell_type": "code",
   "execution_count": 20,
   "id": "3856b52c",
   "metadata": {},
   "outputs": [
    {
     "data": {
      "text/plain": [
       "<Figure size 432x288 with 0 Axes>"
      ]
     },
     "metadata": {},
     "output_type": "display_data"
    },
    {
     "data": {
      "image/png": "[encoded data removed]",
      "text/plain": [
       "<Figure size 576x576 with 1 Axes>"
      ]
     },
     "metadata": {
      "needs_background": "light"
     },
     "output_type": "display_data"
    }
   ],
   "source": [
    "dtree = DecisionTreeClassifier(random_state=10, max_depth=best_depth,\\\n",
    "                               ccp_alpha=best_ccp)\n",
    "dtree.fit(x_train, y_train)\n",
    "\n",
    "plt.clf()\n",
    "plt.figure(figsize=(8,8))\n",
    "tree.plot_tree(dtree, feature_names=x_train.columns, \\\n",
    "               class_names=['Europe', 'Oceania'], filled=True)\n",
    "plt.show()"
   ]
  }
 ],
 "metadata": {
  "kernelspec": {
   "display_name": "Python 3 (ipykernel)",
   "language": "python",
   "name": "python3"
  },
  "language_info": {
   "codemirror_mode": {
    "name": "ipython",
    "version": 3
   },
   "file_extension": ".py",
   "mimetype": "text/x-python",
   "name": "python",
   "nbconvert_exporter": "python",
   "pygments_lexer": "ipython3",
   "version": "3.9.7"
  }
 },
 "nbformat": 4,
 "nbformat_minor": 5
}
