{
 "cells": [
  {
   "cell_type": "markdown",
   "id": "3cd8b7aa",
   "metadata": {},
   "source": [
    "# Machine Learning Project - Breast Cancer\n",
    "\n",
    "## K Nearest Neighbors\n",
    "\n",
    "In this project, the goal is to create a classifier using SciKit-learn and K-Nearest Neighbor which is trained to predict whether a patient has breast cancer."
   ]
  },
  {
   "cell_type": "markdown",
   "id": "480a0a89",
   "metadata": {},
   "source": [
    "### Import Python Modules and Load the data "
   ]
  },
  {
   "cell_type": "code",
   "execution_count": 2,
   "id": "b880b57f",
   "metadata": {},
   "outputs": [],
   "source": [
    "import pandas as pd\n",
    "import matplotlib.pyplot as plt\n",
    "from sklearn.datasets import load_breast_cancer\n",
    "from sklearn.neighbors import KNeighborsClassifier\n",
    "from sklearn.model_selection import train_test_split\n"
   ]
  },
  {
   "cell_type": "code",
   "execution_count": 4,
   "id": "2f94a442",
   "metadata": {},
   "outputs": [
    {
     "name": "stdout",
     "output_type": "stream",
     "text": [
      "[1.799e+01 1.038e+01 1.228e+02 1.001e+03 1.184e-01 2.776e-01 3.001e-01\n",
      " 1.471e-01 2.419e-01 7.871e-02 1.095e+00 9.053e-01 8.589e+00 1.534e+02\n",
      " 6.399e-03 4.904e-02 5.373e-02 1.587e-02 3.003e-02 6.193e-03 2.538e+01\n",
      " 1.733e+01 1.846e+02 2.019e+03 1.622e-01 6.656e-01 7.119e-01 2.654e-01\n",
      " 4.601e-01 1.189e-01]\n",
      "\n",
      " Feature Names:\n",
      " ['mean radius' 'mean texture' 'mean perimeter' 'mean area'\n",
      " 'mean smoothness' 'mean compactness' 'mean concavity'\n",
      " 'mean concave points' 'mean symmetry' 'mean fractal dimension'\n",
      " 'radius error' 'texture error' 'perimeter error' 'area error'\n",
      " 'smoothness error' 'compactness error' 'concavity error'\n",
      " 'concave points error' 'symmetry error' 'fractal dimension error'\n",
      " 'worst radius' 'worst texture' 'worst perimeter' 'worst area'\n",
      " 'worst smoothness' 'worst compactness' 'worst concavity'\n",
      " 'worst concave points' 'worst symmetry' 'worst fractal dimension']\n"
     ]
    }
   ],
   "source": [
    "breast_cancer_data = load_breast_cancer()\n",
    "\n",
    "# Take a look on how does the data construct\n",
    "print(breast_cancer_data.data[0])\n",
    "print('\\n Feature Names:\\n', breast_cancer_data.feature_names)"
   ]
  },
  {
   "cell_type": "markdown",
   "id": "47fc3272",
   "metadata": {},
   "source": [
    "Print out the names of target variable to find out what can it classifies. By looking at the `target_names`, it indicates that `0` corresponds to `malignant`."
   ]
  },
  {
   "cell_type": "code",
   "execution_count": 8,
   "id": "4af7c4a1",
   "metadata": {},
   "outputs": [
    {
     "name": "stdout",
     "output_type": "stream",
     "text": [
      "[0 0 0 0 0 0 0 0 0 0 0 0 0 0 0 0 0 0 0 1 1 1 0 0 0 0 0 0 0 0 0 0 0 0 0 0 0\n",
      " 1 0 0 0 0 0 0 0 0 1 0 1 1]\n",
      "\n",
      " Target Names: ['malignant' 'benign']\n"
     ]
    }
   ],
   "source": [
    "print(breast_cancer_data.target[0:50])\n",
    "print('\\n Target Names:', breast_cancer_data.target_names)"
   ]
  },
  {
   "cell_type": "markdown",
   "id": "5b21cb01",
   "metadata": {},
   "source": [
    "### Split the data into Training and Validation Sets."
   ]
  },
  {
   "cell_type": "code",
   "execution_count": 10,
   "id": "ae4550cd",
   "metadata": {},
   "outputs": [],
   "source": [
    "training_data, validation_data, training_labels, validation_labels = train_test_split(\\\n",
    "                        breast_cancer_data.data, breast_cancer_data.target, \\\n",
    "                        test_size=0.2, random_state=100)"
   ]
  },
  {
   "cell_type": "code",
   "execution_count": 11,
   "id": "f5c5771a",
   "metadata": {},
   "outputs": [
    {
     "name": "stdout",
     "output_type": "stream",
     "text": [
      "455 455\n"
     ]
    }
   ],
   "source": [
    "# Confirm that the training and validation sets work as expected, \n",
    "# which should have the same size.\n",
    "print(len(training_data), len(training_labels))"
   ]
  },
  {
   "cell_type": "markdown",
   "id": "a6367f2a",
   "metadata": {},
   "source": [
    "### Create Classifier with SciKit-Learn\n",
    "Now, create a `KNeighborsClassifier` with `k=3`. Then, train the classifier using the training set and labels."
   ]
  },
  {
   "cell_type": "code",
   "execution_count": 12,
   "id": "d3c6f841",
   "metadata": {},
   "outputs": [],
   "source": [
    "classifier = KNeighborsClassifier(n_neighbors=3)"
   ]
  },
  {
   "cell_type": "code",
   "execution_count": 13,
   "id": "3b536433",
   "metadata": {},
   "outputs": [
    {
     "data": {
      "text/plain": [
       "KNeighborsClassifier(n_neighbors=3)"
      ]
     },
     "execution_count": 13,
     "metadata": {},
     "output_type": "execute_result"
    }
   ],
   "source": [
    "classifier.fit(training_data, training_labels)"
   ]
  },
  {
   "cell_type": "markdown",
   "id": "4cabd0ed",
   "metadata": {},
   "source": [
    "Use the validation sets to check the accuracy rate of the classifier on the validation sets."
   ]
  },
  {
   "cell_type": "code",
   "execution_count": 14,
   "id": "d1049602",
   "metadata": {},
   "outputs": [
    {
     "name": "stdout",
     "output_type": "stream",
     "text": [
      "0.9473684210526315\n"
     ]
    }
   ],
   "source": [
    "score = classifier.score(validation_data, validation_labels)\n",
    "print(score)"
   ]
  },
  {
   "cell_type": "markdown",
   "id": "e3142b68",
   "metadata": {},
   "source": [
    "Test on different `k` values to see whether there is a better `k` to increase accuracy of the classifier. The result below indicates that `k=23` produces a better accuracy with the classifier."
   ]
  },
  {
   "cell_type": "code",
   "execution_count": 46,
   "id": "2dea1330",
   "metadata": {},
   "outputs": [
    {
     "name": "stdout",
     "output_type": "stream",
     "text": [
      "(23, 0.9649122807017544)\n"
     ]
    }
   ],
   "source": [
    "# max_score = max(map(lambda x: x[-1], lst))\n",
    "\n",
    "score_max = 0\n",
    "accuracies = []\n",
    "for k in range(1, 101):\n",
    "    classifier = KNeighborsClassifier(n_neighbors=k)\n",
    "    classifier.fit(training_data, training_labels)\n",
    "    score = classifier.score(validation_data, validation_labels)\n",
    "    accuracies.append(score)\n",
    "    if score_max < score:\n",
    "        score_max = score\n",
    "        max_index_score = (k, score_max)\n",
    "\n",
    "print(max_index_score)"
   ]
  },
  {
   "cell_type": "markdown",
   "id": "2510f78b",
   "metadata": {},
   "source": [
    "### Visualization on Classifier Accuracy\n",
    "\n",
    "Create a graph of validation accuracy."
   ]
  },
  {
   "cell_type": "code",
   "execution_count": 54,
   "id": "a7d68d31",
   "metadata": {},
   "outputs": [
    {
     "data": {
      "image/png": "[encoded data removed]",
      "text/plain": [
       "<Figure size 576x432 with 1 Axes>"
      ]
     },
     "metadata": {
      "needs_background": "light"
     },
     "output_type": "display_data"
    }
   ],
   "source": [
    "k_list = range(1, 101)\n",
    "\n",
    "plt.figure(figsize=(8,6))\n",
    "plt.plot(k_list, accuracies, color='darkblue')\n",
    "plt.xlabel('k', fontsize=16)\n",
    "plt.ylabel('Validation Accuracy', fontsize=16)\n",
    "plt.title('Breast Cancer Classifier Accuracy', fontsize=20)\n",
    "plt.xticks(fontsize=12)\n",
    "plt.yticks(fontsize=12)\n",
    "plt.show()"
   ]
  }
 ],
 "metadata": {
  "kernelspec": {
   "display_name": "Python 3 (ipykernel)",
   "language": "python",
   "name": "python3"
  },
  "language_info": {
   "codemirror_mode": {
    "name": "ipython",
    "version": 3
   },
   "file_extension": ".py",
   "mimetype": "text/x-python",
   "name": "python",
   "nbconvert_exporter": "python",
   "pygments_lexer": "ipython3",
   "version": "3.9.7"
  }
 },
 "nbformat": 4,
 "nbformat_minor": 5
}
