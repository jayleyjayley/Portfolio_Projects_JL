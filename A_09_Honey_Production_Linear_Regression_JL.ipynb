{
 "cells": [
  {
   "cell_type": "markdown",
   "id": "cfc80ee8",
   "metadata": {},
   "source": [
    "# Honey Production\n",
    "## Machine Learning - Linear Regression"
   ]
  },
  {
   "cell_type": "markdown",
   "id": "87fb856b",
   "metadata": {},
   "source": [
    "### Import Python Modules"
   ]
  },
  {
   "cell_type": "code",
   "execution_count": 35,
   "id": "90beb95d",
   "metadata": {},
   "outputs": [],
   "source": [
    "import pandas as pd\n",
    "import numpy as np\n",
    "import matplotlib.pyplot as plt\n",
    "from sklearn import linear_model"
   ]
  },
  {
   "cell_type": "markdown",
   "id": "f4036298",
   "metadata": {},
   "source": [
    "First, import the dataset of honey production and preview the first few lines of the data."
   ]
  },
  {
   "cell_type": "code",
   "execution_count": 2,
   "id": "c1cd586e",
   "metadata": {},
   "outputs": [
    {
     "data": {
      "text/html": [
       "<div>\n",
       "<style scoped>\n",
       "    .dataframe tbody tr th:only-of-type {\n",
       "        vertical-align: middle;\n",
       "    }\n",
       "\n",
       "    .dataframe tbody tr th {\n",
       "        vertical-align: top;\n",
       "    }\n",
       "\n",
       "    .dataframe thead th {\n",
       "        text-align: right;\n",
       "    }\n",
       "</style>\n",
       "<table border=\"1\" class=\"dataframe\">\n",
       "  <thead>\n",
       "    <tr style=\"text-align: right;\">\n",
       "      <th></th>\n",
       "      <th>state</th>\n",
       "      <th>colony_number</th>\n",
       "      <th>yield_per_colony</th>\n",
       "      <th>productions</th>\n",
       "      <th>stocks</th>\n",
       "      <th>average_price</th>\n",
       "      <th>value_of_prod</th>\n",
       "      <th>year</th>\n",
       "    </tr>\n",
       "  </thead>\n",
       "  <tbody>\n",
       "    <tr>\n",
       "      <th>0</th>\n",
       "      <td>Alabama</td>\n",
       "      <td>9000</td>\n",
       "      <td>54</td>\n",
       "      <td>73000</td>\n",
       "      <td>73000</td>\n",
       "      <td>240.0</td>\n",
       "      <td>1166000</td>\n",
       "      <td>2010</td>\n",
       "    </tr>\n",
       "    <tr>\n",
       "      <th>1</th>\n",
       "      <td>Arizona</td>\n",
       "      <td>24000</td>\n",
       "      <td>77</td>\n",
       "      <td>665000</td>\n",
       "      <td>665000</td>\n",
       "      <td>152.0</td>\n",
       "      <td>2809000</td>\n",
       "      <td>2010</td>\n",
       "    </tr>\n",
       "    <tr>\n",
       "      <th>2</th>\n",
       "      <td>Arkansas</td>\n",
       "      <td>25000</td>\n",
       "      <td>60</td>\n",
       "      <td>360000</td>\n",
       "      <td>360000</td>\n",
       "      <td>147.0</td>\n",
       "      <td>2205000</td>\n",
       "      <td>2010</td>\n",
       "    </tr>\n",
       "    <tr>\n",
       "      <th>3</th>\n",
       "      <td>California</td>\n",
       "      <td>410000</td>\n",
       "      <td>67</td>\n",
       "      <td>6318000</td>\n",
       "      <td>6318000</td>\n",
       "      <td>155.0</td>\n",
       "      <td>42579000</td>\n",
       "      <td>2010</td>\n",
       "    </tr>\n",
       "    <tr>\n",
       "      <th>4</th>\n",
       "      <td>Colorado</td>\n",
       "      <td>34000</td>\n",
       "      <td>56</td>\n",
       "      <td>533000</td>\n",
       "      <td>533000</td>\n",
       "      <td>152.0</td>\n",
       "      <td>2894000</td>\n",
       "      <td>2010</td>\n",
       "    </tr>\n",
       "  </tbody>\n",
       "</table>\n",
       "</div>"
      ],
      "text/plain": [
       "        state  colony_number  yield_per_colony  productions   stocks  \\\n",
       "0     Alabama           9000                54        73000    73000   \n",
       "1     Arizona          24000                77       665000   665000   \n",
       "2    Arkansas          25000                60       360000   360000   \n",
       "3  California         410000                67      6318000  6318000   \n",
       "4    Colorado          34000                56       533000   533000   \n",
       "\n",
       "   average_price  value_of_prod  year  \n",
       "0          240.0        1166000  2010  \n",
       "1          152.0        2809000  2010  \n",
       "2          147.0        2205000  2010  \n",
       "3          155.0       42579000  2010  \n",
       "4          152.0        2894000  2010  "
      ]
     },
     "execution_count": 2,
     "metadata": {},
     "output_type": "execute_result"
    }
   ],
   "source": [
    "df = pd.read_csv('US_honey_production_dataset.csv', index_col=0)\n",
    "# df = df.loc[:, ~df.columns.str.contains('^Unnamed')]\n",
    "df.head()"
   ]
  },
  {
   "cell_type": "markdown",
   "id": "33125577",
   "metadata": {},
   "source": [
    "Create a scattor plot of the mean honey production per year. To do so, first calculate the mean of total production per year. "
   ]
  },
  {
   "cell_type": "code",
   "execution_count": 5,
   "id": "a5582d38",
   "metadata": {},
   "outputs": [
    {
     "data": {
      "text/html": [
       "<div>\n",
       "<style scoped>\n",
       "    .dataframe tbody tr th:only-of-type {\n",
       "        vertical-align: middle;\n",
       "    }\n",
       "\n",
       "    .dataframe tbody tr th {\n",
       "        vertical-align: top;\n",
       "    }\n",
       "\n",
       "    .dataframe thead th {\n",
       "        text-align: right;\n",
       "    }\n",
       "</style>\n",
       "<table border=\"1\" class=\"dataframe\">\n",
       "  <thead>\n",
       "    <tr style=\"text-align: right;\">\n",
       "      <th></th>\n",
       "      <th>year</th>\n",
       "      <th>productions</th>\n",
       "    </tr>\n",
       "  </thead>\n",
       "  <tbody>\n",
       "    <tr>\n",
       "      <th>0</th>\n",
       "      <td>2010</td>\n",
       "      <td>1.119925e+06</td>\n",
       "    </tr>\n",
       "    <tr>\n",
       "      <th>1</th>\n",
       "      <td>2011</td>\n",
       "      <td>9.137500e+05</td>\n",
       "    </tr>\n",
       "    <tr>\n",
       "      <th>2</th>\n",
       "      <td>2012</td>\n",
       "      <td>7.915500e+05</td>\n",
       "    </tr>\n",
       "    <tr>\n",
       "      <th>3</th>\n",
       "      <td>2013</td>\n",
       "      <td>9.736923e+05</td>\n",
       "    </tr>\n",
       "    <tr>\n",
       "      <th>4</th>\n",
       "      <td>2014</td>\n",
       "      <td>1.024750e+06</td>\n",
       "    </tr>\n",
       "    <tr>\n",
       "      <th>5</th>\n",
       "      <td>2015</td>\n",
       "      <td>1.045800e+06</td>\n",
       "    </tr>\n",
       "    <tr>\n",
       "      <th>6</th>\n",
       "      <td>2016</td>\n",
       "      <td>1.020925e+06</td>\n",
       "    </tr>\n",
       "    <tr>\n",
       "      <th>7</th>\n",
       "      <td>2017</td>\n",
       "      <td>7.619500e+05</td>\n",
       "    </tr>\n",
       "    <tr>\n",
       "      <th>8</th>\n",
       "      <td>2018</td>\n",
       "      <td>7.247250e+05</td>\n",
       "    </tr>\n",
       "    <tr>\n",
       "      <th>9</th>\n",
       "      <td>2019</td>\n",
       "      <td>1.012750e+06</td>\n",
       "    </tr>\n",
       "    <tr>\n",
       "      <th>10</th>\n",
       "      <td>2020</td>\n",
       "      <td>9.853000e+05</td>\n",
       "    </tr>\n",
       "    <tr>\n",
       "      <th>11</th>\n",
       "      <td>2021</td>\n",
       "      <td>5.796750e+05</td>\n",
       "    </tr>\n",
       "  </tbody>\n",
       "</table>\n",
       "</div>"
      ],
      "text/plain": [
       "    year   productions\n",
       "0   2010  1.119925e+06\n",
       "1   2011  9.137500e+05\n",
       "2   2012  7.915500e+05\n",
       "3   2013  9.736923e+05\n",
       "4   2014  1.024750e+06\n",
       "5   2015  1.045800e+06\n",
       "6   2016  1.020925e+06\n",
       "7   2017  7.619500e+05\n",
       "8   2018  7.247250e+05\n",
       "9   2019  1.012750e+06\n",
       "10  2020  9.853000e+05\n",
       "11  2021  5.796750e+05"
      ]
     },
     "execution_count": 5,
     "metadata": {},
     "output_type": "execute_result"
    }
   ],
   "source": [
    "prod_per_year = df.productions.groupby(df['year']).mean().reset_index()\n",
    "prod_per_year"
   ]
  },
  {
   "cell_type": "markdown",
   "id": "fae027ee",
   "metadata": {},
   "source": [
    "Then, seperate the column of `year` and `productions` in `prod_per_year`. Reshape them into a single column respectively."
   ]
  },
  {
   "cell_type": "code",
   "execution_count": 7,
   "id": "17f17e0d",
   "metadata": {},
   "outputs": [],
   "source": [
    "X = prod_per_year['year']\n",
    "X = X.values.reshape(-1,1)"
   ]
  },
  {
   "cell_type": "code",
   "execution_count": 17,
   "id": "8e766a34",
   "metadata": {},
   "outputs": [],
   "source": [
    "y = prod_per_year['productions']"
   ]
  },
  {
   "cell_type": "markdown",
   "id": "faf8350b",
   "metadata": {},
   "source": [
    "The scatter plot below seems to suggest a linear relationship between `year` and `production`."
   ]
  },
  {
   "cell_type": "code",
   "execution_count": 30,
   "id": "8565660d",
   "metadata": {},
   "outputs": [
    {
     "data": {
      "image/png": "[encoded data removed]",
      "text/plain": [
       "<Figure size 432x288 with 1 Axes>"
      ]
     },
     "metadata": {
      "needs_background": "light"
     },
     "output_type": "display_data"
    }
   ],
   "source": [
    "plt.scatter(X, y)\n",
    "plt.xlabel('Year')\n",
    "plt.ylabel('Average Production per Year')\n",
    "plt.title('Average Honey Production in the US')\n",
    "plt.show()"
   ]
  },
  {
   "cell_type": "markdown",
   "id": "1342bbc5",
   "metadata": {},
   "source": [
    "Create a linear regression model and use the model to find the slope and intercept of the line."
   ]
  },
  {
   "cell_type": "code",
   "execution_count": 28,
   "id": "e1e27ef4",
   "metadata": {},
   "outputs": [
    {
     "name": "stdout",
     "output_type": "stream",
     "text": [
      "-20309.48090371167 41846658.12040523\n"
     ]
    }
   ],
   "source": [
    "regr = linear_model.LinearRegression()\n",
    "regr.fit(X, y)\n",
    "print(regr.coef_[0], regr.intercept_)"
   ]
  },
  {
   "cell_type": "markdown",
   "id": "802c666b",
   "metadata": {},
   "source": [
    "Create a list of predicted values using the model and the data of `year`. Then, establish a line of the predicted average production value vs. year on the earlier scatterplot. It seems like the production of honey has been decline according to this linear model."
   ]
  },
  {
   "cell_type": "code",
   "execution_count": 29,
   "id": "8950ac58",
   "metadata": {},
   "outputs": [],
   "source": [
    "y_predict = regr.predict(X)"
   ]
  },
  {
   "cell_type": "code",
   "execution_count": 32,
   "id": "ba9bb7b1",
   "metadata": {},
   "outputs": [
    {
     "data": {
      "image/png": "[encoded data removed]",
      "text/plain": [
       "<Figure size 432x288 with 1 Axes>"
      ]
     },
     "metadata": {
      "needs_background": "light"
     },
     "output_type": "display_data"
    }
   ],
   "source": [
    "plt.scatter(X, y)\n",
    "plt.xlabel('Year')\n",
    "plt.ylabel('Average Production per Year')\n",
    "plt.title('Average Honey Production in the US')\n",
    "\n",
    "plt.plot(X, y_predict, '-')\n",
    "plt.show()"
   ]
  },
  {
   "cell_type": "markdown",
   "id": "8320765a",
   "metadata": {},
   "source": [
    "Predict the honey production in year 2050 using this linear model. Produces a column of numbers representing from year 2022 to year 2050."
   ]
  },
  {
   "cell_type": "code",
   "execution_count": 36,
   "id": "72935288",
   "metadata": {},
   "outputs": [],
   "source": [
    "X_future = np.array(range(2022, 2051))\n",
    "X_future = X_future.reshape(-1, 1)"
   ]
  },
  {
   "cell_type": "code",
   "execution_count": 38,
   "id": "4d019ded",
   "metadata": {},
   "outputs": [],
   "source": [
    "future_predict = regr.predict(X_future)"
   ]
  },
  {
   "cell_type": "markdown",
   "id": "161661d7",
   "metadata": {},
   "source": [
    "Using this linear model to predict the future honey production. It seems that in year 2050, the average honey production is two hundred thousands."
   ]
  },
  {
   "cell_type": "code",
   "execution_count": 42,
   "id": "50787d01",
   "metadata": {},
   "outputs": [
    {
     "data": {
      "image/png": "[encoded data removed]",
      "text/plain": [
       "<Figure size 432x288 with 1 Axes>"
      ]
     },
     "metadata": {
      "needs_background": "light"
     },
     "output_type": "display_data"
    }
   ],
   "source": [
    "plt.plot(X_future, future_predict)\n",
    "plt.xlabel('Targeted Year')\n",
    "plt.ylabel('Predicted Average Production')\n",
    "plt.title('Predicted Average Honey Production')\n",
    "plt.show()"
   ]
  }
 ],
 "metadata": {
  "kernelspec": {
   "display_name": "Python 3 (ipykernel)",
   "language": "python",
   "name": "python3"
  },
  "language_info": {
   "codemirror_mode": {
    "name": "ipython",
    "version": 3
   },
   "file_extension": ".py",
   "mimetype": "text/x-python",
   "name": "python",
   "nbconvert_exporter": "python",
   "pygments_lexer": "ipython3",
   "version": "3.9.7"
  }
 },
 "nbformat": 4,
 "nbformat_minor": 5
}
